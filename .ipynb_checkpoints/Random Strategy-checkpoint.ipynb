{
 "cells": [
  {
   "cell_type": "code",
   "execution_count": 55,
   "metadata": {},
   "outputs": [
    {
     "ename": "ImportError",
     "evalue": "No module named 'MaStrategie'",
     "output_type": "error",
     "traceback": [
      "\u001b[0;31m---------------------------------------------------------------------------\u001b[0m",
      "\u001b[0;31mImportError\u001b[0m                               Traceback (most recent call last)",
      "\u001b[0;32m<ipython-input-55-e1c67ba32adb>\u001b[0m in \u001b[0;36m<module>\u001b[0;34m()\u001b[0m\n\u001b[1;32m      1\u001b[0m \u001b[0;31m# coding: utf-8\u001b[0m\u001b[0;34m\u001b[0m\u001b[0;34m\u001b[0m\u001b[0m\n\u001b[1;32m      2\u001b[0m \u001b[0;32mfrom\u001b[0m \u001b[0msoccersimulator\u001b[0m \u001b[0;32mimport\u001b[0m \u001b[0mStrategy\u001b[0m\u001b[0;34m,\u001b[0m \u001b[0mSoccerAction\u001b[0m\u001b[0;34m,\u001b[0m \u001b[0mVector2D\u001b[0m\u001b[0;34m,\u001b[0m \u001b[0mSoccerTeam\u001b[0m\u001b[0;34m,\u001b[0m \u001b[0mSimulation\u001b[0m\u001b[0;34m,\u001b[0m \u001b[0mshow_simu\u001b[0m\u001b[0;34m\u001b[0m\u001b[0m\n\u001b[0;32m----> 3\u001b[0;31m \u001b[0;32mimport\u001b[0m \u001b[0mMaStrategie\u001b[0m\u001b[0;34m\u001b[0m\u001b[0m\n\u001b[0m\u001b[1;32m      4\u001b[0m \u001b[0;34m\u001b[0m\u001b[0m\n\u001b[1;32m      5\u001b[0m \u001b[0;32mclass\u001b[0m \u001b[0mRandomStrategy\u001b[0m\u001b[0;34m(\u001b[0m\u001b[0mMaStrategie\u001b[0m\u001b[0;34m)\u001b[0m\u001b[0;34m:\u001b[0m\u001b[0;34m\u001b[0m\u001b[0m\n",
      "\u001b[0;31mImportError\u001b[0m: No module named 'MaStrategie'"
     ]
    }
   ],
   "source": [
    "# coding: utf-8\n",
    "from soccersimulator import Strategy, SoccerAction, Vector2D, SoccerTeam, Simulation, show_simu\n",
    "import MyStrategy\n",
    "\n",
    "class RandomStrategy(MyStrategy):\n",
    "    def __init__(self):\n",
    "        Strategy.__init__(self, \"Random\")\n",
    "\n",
    "    def compute_strategy(self, state, id_team, id_player):\n",
    "        # id_team is 1 or 2\n",
    "        # id_player starts at 0\n",
    "        return SoccerAction(Vector2D.create_random(-1,1),\n",
    "                            Vector2D.create_random(-1,1))\n",
    "\n",
    "\n",
    "# Create teams\n",
    "team1 = SoccerTeam(name=\"Team 1\")\n",
    "team2 = SoccerTeam(name=\"Team 2\")\n",
    "\n",
    "# Add players\n",
    "team1.add(\"Random\", RandomStrategy())  # Random strategy\n",
    "team2.add(\"Static\", Strategy())   # Static strategy\n",
    "\n",
    "# Create a match\n",
    "simu = Simulation(team1, team2)\n",
    "\n",
    "# Simulate and display the match\n",
    "show_simu(simu)"
   ]
  },
  {
   "cell_type": "code",
   "execution_count": null,
   "metadata": {},
   "outputs": [],
   "source": []
  },
  {
   "cell_type": "code",
   "execution_count": null,
   "metadata": {},
   "outputs": [],
   "source": []
  }
 ],
 "metadata": {
  "kernelspec": {
   "display_name": "Python 3",
   "language": "python",
   "name": "python3"
  },
  "language_info": {
   "codemirror_mode": {
    "name": "ipython",
    "version": 3
   },
   "file_extension": ".py",
   "mimetype": "text/x-python",
   "name": "python",
   "nbconvert_exporter": "python",
   "pygments_lexer": "ipython3",
   "version": "3.5.3"
  }
 },
 "nbformat": 4,
 "nbformat_minor": 2
}
