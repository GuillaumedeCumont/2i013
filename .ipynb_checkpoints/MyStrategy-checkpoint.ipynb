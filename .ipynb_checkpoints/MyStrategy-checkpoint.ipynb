{
 "cells": [
  {
   "cell_type": "code",
   "execution_count": 12,
   "metadata": {},
   "outputs": [],
   "source": [
    "from soccersimulator import Strategy, SoccerAction, Vector2D, SoccerTeam, Simulation, show_simu"
   ]
  },
  {
   "cell_type": "code",
   "execution_count": 15,
   "metadata": {},
   "outputs": [],
   "source": [
    "class MyStrategy(Strategy):\n",
    "    def __init__(self,name=\"MyStrategy\"):\n",
    "        Strategie.__init__(self,name)\n",
    "    def compute_strategy(self,state,idteam,idplayer):\n",
    "        \n",
    "        nouvelledirection = state.player_state(idteam,idplayer).position - state.ball.position\n",
    "        \n",
    "        return SoccerAction(nouvelledirection,vecteur_shoot)"
   ]
  },
  {
   "cell_type": "code",
   "execution_count": 17,
   "metadata": {},
   "outputs": [],
   "source": [
    "# coding: utf-8\n",
    "from soccersimulator import Strategy, SoccerAction, Vector2D, SoccerTeam, Simulation, show_simu\n",
    "\n",
    "class RandomStrategy(MyStrategy):\n",
    "    def __init__(self):\n",
    "        Strategy.__init__(self, \"Random\")\n",
    "\n",
    "    def compute_strategy(self, state, id_team, id_player):\n",
    "        # id_team is 1 or 2\n",
    "        # id_player starts at 0\n",
    "        return SoccerAction(Vector2D.create_random(-1,1),\n",
    "                            Vector2D.create_random(-1,1))\n",
    "\n",
    "\n",
    "# Create teams\n",
    "team1 = SoccerTeam(name=\"Team 1\")\n",
    "team2 = SoccerTeam(name=\"Team 2\")\n",
    "\n",
    "# Add players\n",
    "team1.add(\"Random\", RandomStrategy())  # Random strategy\n",
    "team2.add(\"Static\", Strategy())   # Static strategy\n",
    "\n",
    "# Create a match\n",
    "simu = Simulation(team1, team2)\n",
    "\n",
    "# Simulate and display the match\n",
    "show_simu(simu)"
   ]
  },
  {
   "cell_type": "code",
   "execution_count": null,
   "metadata": {},
   "outputs": [],
   "source": []
  }
 ],
 "metadata": {
  "kernelspec": {
   "display_name": "Python 3",
   "language": "python",
   "name": "python3"
  },
  "language_info": {
   "codemirror_mode": {
    "name": "ipython",
    "version": 3
   },
   "file_extension": ".py",
   "mimetype": "text/x-python",
   "name": "python",
   "nbconvert_exporter": "python",
   "pygments_lexer": "ipython3",
   "version": "3.5.3"
  }
 },
 "nbformat": 4,
 "nbformat_minor": 2
}
